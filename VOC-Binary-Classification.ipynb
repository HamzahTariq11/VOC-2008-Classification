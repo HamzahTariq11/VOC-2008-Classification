version https://git-lfs.github.com/spec/v1
oid sha256:bdae9cf6fec413af5972c28ba7d8ddd9a6acdac885b31ef52c5a849608fbf506
size 83647880
